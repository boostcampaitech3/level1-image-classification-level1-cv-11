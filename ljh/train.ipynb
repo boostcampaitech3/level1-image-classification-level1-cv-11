{
 "cells": [
  {
   "cell_type": "code",
   "execution_count": 1,
   "metadata": {},
   "outputs": [],
   "source": [
    "import dataset\n",
    "import model\n",
    "\n",
    "import random\n",
    "import numpy as np\n",
    "import pandas as pd\n",
    "import os\n",
    "from tqdm import tqdm\n",
    "from sklearn.model_selection import train_test_split\n",
    "\n",
    "import torch\n",
    "import torch.nn as nn\n",
    "from torch.utils.data import DataLoader\n",
    "\n",
    "import torchvision"
   ]
  },
  {
   "cell_type": "code",
   "execution_count": 2,
   "metadata": {},
   "outputs": [],
   "source": [
    "# 재현성을 위한 seed 고정\n",
    "random_seed = 42\n",
    "torch.manual_seed(random_seed)\n",
    "torch.backends.cudnn.deterministic = True # 고정하면 학습이 느려진다고 합니다.\n",
    "torch.backends.cudnn.benchmark = False\n",
    "torch.cuda.manual_seed(random_seed)\n",
    "torch.cuda.manual_seed_all(random_seed) # if use multi-GPU\n",
    "np.random.seed(random_seed)\n",
    "random.seed(random_seed)\n",
    "\n",
    "device = torch.device('cuda:0' if torch.cuda.is_available() else 'cpu')"
   ]
  },
  {
   "cell_type": "code",
   "execution_count": 3,
   "metadata": {},
   "outputs": [],
   "source": [
    "def createDirectory(directory): # 디렉토리 없으면 생성\n",
    "    try: \n",
    "        if not os.path.exists(directory): \n",
    "            os.makedirs(directory) \n",
    "    except OSError: \n",
    "            print(\"Error: Failed to create the directory.\")"
   ]
  },
  {
   "cell_type": "code",
   "execution_count": 4,
   "metadata": {},
   "outputs": [],
   "source": [
    "def train_model(model_):\n",
    "    ### 학습 코드 시작\n",
    "    best_test_accuracy = 0.\n",
    "    best_test_loss = 9999.\n",
    "\n",
    "    dataloaders = {\n",
    "            \"train\" : DL_train,\n",
    "            \"test\" : DL_valid\n",
    "        }\n",
    "\n",
    "    for epoch in range(1,epoch_num+1):\n",
    "        for phase in [\"train\", \"test\"]:\n",
    "            running_loss = 0.\n",
    "            running_acc = 0.\n",
    "            if phase == \"train\":\n",
    "                model_.train()\n",
    "            elif phase == \"test\":\n",
    "                model_.eval()\n",
    "\n",
    "            for ind, (images, labels) in enumerate(tqdm(dataloaders[phase])):\n",
    "                images = images.to(device)\n",
    "                labels = labels.to(device)\n",
    "\n",
    "                optimizer.zero_grad()\n",
    "\n",
    "                with torch.set_grad_enabled(phase == \"train\"):\n",
    "                    preds = model_(images)\n",
    "                    loss = criterion(preds, labels)\n",
    "\n",
    "                    if phase == \"train\":\n",
    "                        loss.backward()\n",
    "                        optimizer.step()\n",
    "\n",
    "                    running_loss += loss.item() * images.size(0) # 한 Batch에서의 loss 값 저장\n",
    "                    preds_num = torch.argmax(preds,dim=1)\n",
    "                    running_acc += torch.sum(preds_num == labels) # 한 Batch에서의 Accuracy 값 저장\n",
    "\n",
    "            # 한 epoch이 모두 종료되었을 때,\n",
    "            epoch_loss = running_loss / len(dataloaders[phase].dataset)\n",
    "            epoch_acc = running_acc / len(dataloaders[phase].dataset)\n",
    "            \n",
    "            print(f\"epoch-{epoch} {phase}-데이터 셋 평균 Loss : {epoch_loss:.3f}, 평균 Accuracy : {epoch_acc:.3f}\")\n",
    "            if phase == \"test\" and best_test_accuracy < epoch_acc:\n",
    "                best_test_accuracy = epoch_acc\n",
    "                torch.save(model_.state_dict(), f'./model/{test_name}/{model_name}_state_dict/{epoch:03d}_{best_test_accuracy:0.4f}.pt')\n",
    "            if phase == \"test\" and best_test_loss > epoch_loss:\n",
    "                best_test_loss = epoch_loss\n",
    "    print(\"학습 종료!\")\n",
    "    print(f\"최고 accuracy : {best_test_accuracy}, 최고 낮은 loss : {best_test_loss}\")\n",
    "    \n",
    "    torch.cuda.empty_cache() # GPU 캐시 데이터 삭제"
   ]
  },
  {
   "cell_type": "code",
   "execution_count": 5,
   "metadata": {},
   "outputs": [
    {
     "name": "stderr",
     "output_type": "stream",
     "text": [
      "100%|██████████| 237/237 [06:23<00:00,  1.62s/it]\n",
      "  0%|          | 0/60 [00:00<?, ?it/s]"
     ]
    },
    {
     "name": "stdout",
     "output_type": "stream",
     "text": [
      "epoch-1 train-데이터 셋 평균 Loss : 0.050, 평균 Accuracy : 0.983\n"
     ]
    },
    {
     "name": "stderr",
     "output_type": "stream",
     "text": [
      "100%|██████████| 60/60 [00:41<00:00,  1.45it/s]\n",
      "  0%|          | 0/237 [00:00<?, ?it/s]"
     ]
    },
    {
     "name": "stdout",
     "output_type": "stream",
     "text": [
      "epoch-1 test-데이터 셋 평균 Loss : 0.013, 평균 Accuracy : 0.996\n"
     ]
    },
    {
     "name": "stderr",
     "output_type": "stream",
     "text": [
      "100%|██████████| 237/237 [06:03<00:00,  1.54s/it]\n",
      "  0%|          | 0/60 [00:00<?, ?it/s]"
     ]
    },
    {
     "name": "stdout",
     "output_type": "stream",
     "text": [
      "epoch-2 train-데이터 셋 평균 Loss : 0.011, 평균 Accuracy : 0.996\n"
     ]
    },
    {
     "name": "stderr",
     "output_type": "stream",
     "text": [
      "100%|██████████| 60/60 [00:57<00:00,  1.05it/s]\n",
      "  0%|          | 0/237 [00:00<?, ?it/s]"
     ]
    },
    {
     "name": "stdout",
     "output_type": "stream",
     "text": [
      "epoch-2 test-데이터 셋 평균 Loss : 0.012, 평균 Accuracy : 0.996\n"
     ]
    },
    {
     "name": "stderr",
     "output_type": "stream",
     "text": [
      "100%|██████████| 237/237 [05:48<00:00,  1.47s/it]\n",
      "  0%|          | 0/60 [00:00<?, ?it/s]"
     ]
    },
    {
     "name": "stdout",
     "output_type": "stream",
     "text": [
      "epoch-3 train-데이터 셋 평균 Loss : 0.011, 평균 Accuracy : 0.996\n"
     ]
    },
    {
     "name": "stderr",
     "output_type": "stream",
     "text": [
      "100%|██████████| 60/60 [01:02<00:00,  1.05s/it]\n",
      "  0%|          | 0/237 [00:00<?, ?it/s]"
     ]
    },
    {
     "name": "stdout",
     "output_type": "stream",
     "text": [
      "epoch-3 test-데이터 셋 평균 Loss : 0.031, 평균 Accuracy : 0.992\n"
     ]
    },
    {
     "name": "stderr",
     "output_type": "stream",
     "text": [
      "100%|██████████| 237/237 [05:38<00:00,  1.43s/it]\n",
      "  0%|          | 0/60 [00:00<?, ?it/s]"
     ]
    },
    {
     "name": "stdout",
     "output_type": "stream",
     "text": [
      "epoch-4 train-데이터 셋 평균 Loss : 0.008, 평균 Accuracy : 0.998\n"
     ]
    },
    {
     "name": "stderr",
     "output_type": "stream",
     "text": [
      "100%|██████████| 60/60 [00:53<00:00,  1.12it/s]\n",
      "  0%|          | 0/237 [00:00<?, ?it/s]"
     ]
    },
    {
     "name": "stdout",
     "output_type": "stream",
     "text": [
      "epoch-4 test-데이터 셋 평균 Loss : 0.038, 평균 Accuracy : 0.993\n"
     ]
    },
    {
     "name": "stderr",
     "output_type": "stream",
     "text": [
      "100%|██████████| 237/237 [05:42<00:00,  1.45s/it]\n",
      "  0%|          | 0/60 [00:00<?, ?it/s]"
     ]
    },
    {
     "name": "stdout",
     "output_type": "stream",
     "text": [
      "epoch-5 train-데이터 셋 평균 Loss : 0.008, 평균 Accuracy : 0.998\n"
     ]
    },
    {
     "name": "stderr",
     "output_type": "stream",
     "text": [
      "100%|██████████| 60/60 [00:37<00:00,  1.62it/s]\n",
      "  0%|          | 0/237 [00:00<?, ?it/s]"
     ]
    },
    {
     "name": "stdout",
     "output_type": "stream",
     "text": [
      "epoch-5 test-데이터 셋 평균 Loss : 0.009, 평균 Accuracy : 0.996\n"
     ]
    },
    {
     "name": "stderr",
     "output_type": "stream",
     "text": [
      "100%|██████████| 237/237 [05:36<00:00,  1.42s/it]\n",
      "  0%|          | 0/60 [00:00<?, ?it/s]"
     ]
    },
    {
     "name": "stdout",
     "output_type": "stream",
     "text": [
      "epoch-6 train-데이터 셋 평균 Loss : 0.002, 평균 Accuracy : 0.999\n"
     ]
    },
    {
     "name": "stderr",
     "output_type": "stream",
     "text": [
      "100%|██████████| 60/60 [00:41<00:00,  1.46it/s]\n"
     ]
    },
    {
     "name": "stdout",
     "output_type": "stream",
     "text": [
      "epoch-6 test-데이터 셋 평균 Loss : 0.003, 평균 Accuracy : 1.000\n"
     ]
    },
    {
     "name": "stderr",
     "output_type": "stream",
     "text": [
      "100%|██████████| 237/237 [05:51<00:00,  1.48s/it]\n",
      "  0%|          | 0/60 [00:00<?, ?it/s]"
     ]
    },
    {
     "name": "stdout",
     "output_type": "stream",
     "text": [
      "epoch-7 train-데이터 셋 평균 Loss : 0.000, 평균 Accuracy : 1.000\n"
     ]
    },
    {
     "name": "stderr",
     "output_type": "stream",
     "text": [
      "100%|██████████| 60/60 [01:00<00:00,  1.02s/it]\n",
      "  0%|          | 0/237 [00:00<?, ?it/s]"
     ]
    },
    {
     "name": "stdout",
     "output_type": "stream",
     "text": [
      "epoch-7 test-데이터 셋 평균 Loss : 0.001, 평균 Accuracy : 1.000\n"
     ]
    },
    {
     "name": "stderr",
     "output_type": "stream",
     "text": [
      "100%|██████████| 237/237 [05:20<00:00,  1.35s/it]\n",
      "  0%|          | 0/60 [00:00<?, ?it/s]"
     ]
    },
    {
     "name": "stdout",
     "output_type": "stream",
     "text": [
      "epoch-8 train-데이터 셋 평균 Loss : 0.000, 평균 Accuracy : 1.000\n"
     ]
    },
    {
     "name": "stderr",
     "output_type": "stream",
     "text": [
      "100%|██████████| 60/60 [00:45<00:00,  1.31it/s]\n",
      "  0%|          | 0/237 [00:00<?, ?it/s]"
     ]
    },
    {
     "name": "stdout",
     "output_type": "stream",
     "text": [
      "epoch-8 test-데이터 셋 평균 Loss : 0.001, 평균 Accuracy : 0.999\n"
     ]
    },
    {
     "name": "stderr",
     "output_type": "stream",
     "text": [
      "100%|██████████| 237/237 [05:49<00:00,  1.47s/it]\n",
      "  0%|          | 0/60 [00:00<?, ?it/s]"
     ]
    },
    {
     "name": "stdout",
     "output_type": "stream",
     "text": [
      "epoch-9 train-데이터 셋 평균 Loss : 0.001, 평균 Accuracy : 0.999\n"
     ]
    },
    {
     "name": "stderr",
     "output_type": "stream",
     "text": [
      "100%|██████████| 60/60 [00:46<00:00,  1.28it/s]\n",
      "  0%|          | 0/237 [00:00<?, ?it/s]"
     ]
    },
    {
     "name": "stdout",
     "output_type": "stream",
     "text": [
      "epoch-9 test-데이터 셋 평균 Loss : 0.006, 평균 Accuracy : 0.998\n"
     ]
    },
    {
     "name": "stderr",
     "output_type": "stream",
     "text": [
      "100%|██████████| 237/237 [06:01<00:00,  1.52s/it]\n",
      "  0%|          | 0/60 [00:00<?, ?it/s]"
     ]
    },
    {
     "name": "stdout",
     "output_type": "stream",
     "text": [
      "epoch-10 train-데이터 셋 평균 Loss : 0.017, 평균 Accuracy : 0.994\n"
     ]
    },
    {
     "name": "stderr",
     "output_type": "stream",
     "text": [
      "100%|██████████| 60/60 [00:57<00:00,  1.04it/s]"
     ]
    },
    {
     "name": "stdout",
     "output_type": "stream",
     "text": [
      "epoch-10 test-데이터 셋 평균 Loss : 0.039, 평균 Accuracy : 0.989\n",
      "학습 종료!\n",
      "최고 accuracy : 0.9997354745864868, 최고 낮은 loss : 0.0007047647389277873\n"
     ]
    },
    {
     "name": "stderr",
     "output_type": "stream",
     "text": [
      "\n"
     ]
    }
   ],
   "source": [
    "torch.cuda.empty_cache() # GPU 캐시 데이터 삭제\n",
    "createDirectory('./model')\n",
    "\n",
    "test_name = 'T2(resnet50)'\n",
    "createDirectory(f'./model/{test_name}')\n",
    "\n",
    "model_name = 'sex'          # == target\n",
    "class_num = 2\n",
    "createDirectory(f'./model/{test_name}/{model_name}_state_dict')\n",
    "\n",
    "df_path = \"train_new.csv\"\n",
    "\n",
    "train_transform = dataset.BaseAugmentation()\n",
    "valid_transform = dataset.BaseAugmentation()\n",
    "batch_size = 64\n",
    "lr = 0.0001\n",
    "epoch_num = 10\n",
    "criterion = nn.CrossEntropyLoss()\n",
    "\n",
    "model_ = model.set_outfeature(class_num=class_num,trained_model = torchvision.models.resnet50)\n",
    "model_.to(device)\n",
    "optimizer = torch.optim.Adam(model_.parameters(), lr=lr)\n",
    "\n",
    "# data frame을 train, vaild set으로 분할\n",
    "df = pd.read_csv(df_path)\n",
    "train_df, valid_df = train_test_split(df, test_size=0.2, stratify=df[model_name], random_state=random_seed)\n",
    "\n",
    "# train, valid dataloader 생성\n",
    "DS_train = dataset.CustomDataset(train_df,target=model_name,transform=train_transform)\n",
    "DS_valid = dataset.CustomDataset(valid_df,target=model_name,transform=valid_transform)\n",
    "DL_train = DataLoader(DS_train,batch_size=batch_size,shuffle=True)\n",
    "DL_valid = DataLoader(DS_valid,batch_size=batch_size,shuffle=True)\n",
    "\n",
    "torch.save(model_, f'./model/{test_name}/{model_name}.pt')\n",
    "train_model(model_)"
   ]
  },
  {
   "cell_type": "code",
   "execution_count": null,
   "metadata": {},
   "outputs": [],
   "source": []
  }
 ],
 "metadata": {
  "interpreter": {
   "hash": "d4d1e4263499bec80672ea0156c357c1ee493ec2b1c70f0acce89fc37c4a6abe"
  },
  "kernelspec": {
   "display_name": "Python 3.8.5 ('base')",
   "language": "python",
   "name": "python3"
  },
  "language_info": {
   "codemirror_mode": {
    "name": "ipython",
    "version": 3
   },
   "file_extension": ".py",
   "mimetype": "text/x-python",
   "name": "python",
   "nbconvert_exporter": "python",
   "pygments_lexer": "ipython3",
   "version": "3.8.5"
  },
  "orig_nbformat": 4
 },
 "nbformat": 4,
 "nbformat_minor": 2
}
